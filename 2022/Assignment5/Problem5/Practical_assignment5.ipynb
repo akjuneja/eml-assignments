{
 "cells": [
  {
   "cell_type": "code",
   "execution_count": 47,
   "id": "10e83d09-d18a-41b1-b045-20536dd84b65",
   "metadata": {},
   "outputs": [],
   "source": [
    "import pandas as pd\n",
    "import numpy as np\n",
    "import matplotlib.pyplot as plt"
   ]
  },
  {
   "cell_type": "code",
   "execution_count": 48,
   "id": "5a9cf897-1d0d-411d-9960-fdd8b74ed9a5",
   "metadata": {},
   "outputs": [],
   "source": [
    "from numpy import genfromtxt\n",
    "data1 = genfromtxt('data1.csv', delimiter=',')\n",
    "X = data1[:,:-1]\n",
    "y = data1[:, -1]"
   ]
  },
  {
   "cell_type": "code",
   "execution_count": 49,
   "id": "a4f151e0-5761-4ab4-aa09-bd4cc7d25771",
   "metadata": {},
   "outputs": [
    {
     "data": {
      "image/png": "[encoded data removed]",
      "text/plain": [
       "<Figure size 432x288 with 1 Axes>"
      ]
     },
     "metadata": {
      "needs_background": "light"
     },
     "output_type": "display_data"
    }
   ],
   "source": [
    "from sklearn.decomposition import PCA\n",
    "\n",
    "pca = PCA(n_components=2)\n",
    "X_pca = pca.fit_transform(X)\n",
    "\n",
    "pc1 = X_pca[:, 0]\n",
    "pc2 = X_pca[:, 1]\n",
    "\n",
    "for c in np.unique(y):\n",
    "    plt.scatter(pc1[y == c], pc2[y == c], label=str(c))\n",
    "\n",
    "plt.xlabel('First Principal Component')\n",
    "plt.ylabel('Second Principal Component')\n",
    "plt.legend()\n",
    "plt.show()"
   ]
  },
  {
   "cell_type": "code",
   "execution_count": 42,
   "id": "d0dc800b-25a4-4c52-a220-127e403155bb",
   "metadata": {},
   "outputs": [
    {
     "name": "stdout",
     "output_type": "stream",
     "text": [
      "K-means with K=3, Adjusted Rand Index: 1.0\n"
     ]
    }
   ],
   "source": [
    "from sklearn.cluster import KMeans\n",
    "from sklearn.metrics import adjusted_rand_score\n",
    "\n",
    "## K = 3\n",
    "kmeans = KMeans(n_clusters=3, random_state=0)\n",
    "kmeans.fit(X)\n",
    "\n",
    "y_pred = kmeans.labels_\n",
    "\n",
    "ari = adjusted_rand_score(y, y_pred)\n",
    "print(\"K-means with K=3, Adjusted Rand Index:\", ari)"
   ]
  },
  {
   "cell_type": "markdown",
   "id": "e1509bd6",
   "metadata": {},
   "source": [
    "Clusters obtained in the k-means clustering with k=3 match the true labels completely as the ari score is 1."
   ]
  },
  {
   "cell_type": "code",
   "execution_count": 43,
   "id": "3d4eedcb",
   "metadata": {},
   "outputs": [
    {
     "name": "stdout",
     "output_type": "stream",
     "text": [
      "K-means with K=2, Adjusted Rand Index: 0.5387959179866048\n"
     ]
    }
   ],
   "source": [
    "## K = 2\n",
    "kmeans = KMeans(n_clusters=2, random_state=0)\n",
    "kmeans.fit(X)\n",
    "\n",
    "y_pred = kmeans.labels_\n",
    "\n",
    "ari = adjusted_rand_score(y, y_pred)\n",
    "print(\"K-means with K=2, Adjusted Rand Index:\", ari)"
   ]
  },
  {
   "cell_type": "code",
   "execution_count": 44,
   "id": "1ce97102",
   "metadata": {},
   "outputs": [
    {
     "name": "stdout",
     "output_type": "stream",
     "text": [
      "K-means with K=4, Adjusted Rand Index: 0.5387959179866048\n"
     ]
    }
   ],
   "source": [
    "## K = 4\n",
    "kmeans = KMeans(n_clusters=2, random_state=0)\n",
    "kmeans.fit(X)\n",
    "\n",
    "y_pred = kmeans.labels_\n",
    "\n",
    "ari = adjusted_rand_score(y, y_pred)\n",
    "print(\"K-means with K=4, Adjusted Rand Index:\", ari)"
   ]
  },
  {
   "cell_type": "markdown",
   "id": "928d4e08",
   "metadata": {},
   "source": [
    "k-means clustering with k=3 and k-means clustering with k=4 have almost equal ari score of 0.538 which indicates it is not a perfect match with true labels but better than random clustering."
   ]
  },
  {
   "cell_type": "code",
   "execution_count": 45,
   "id": "115d1060",
   "metadata": {},
   "outputs": [
    {
     "name": "stdout",
     "output_type": "stream",
     "text": [
      "K-means with K=3 on PC components, Adjusted Rand Index: 1.0\n"
     ]
    }
   ],
   "source": [
    "# K=3 with PCs\n",
    "pcs = np.stack((pc1, pc2), axis=1)\n",
    "kmeans = KMeans(n_clusters=3, random_state=0)\n",
    "kmeans.fit(pcs)\n",
    "\n",
    "y_pred = kmeans.labels_\n",
    "\n",
    "ari = adjusted_rand_score(y, y_pred)\n",
    "print(\"K-means with K=3 on PC components, Adjusted Rand Index:\", ari)"
   ]
  },
  {
   "cell_type": "markdown",
   "id": "0218df9c",
   "metadata": {},
   "source": [
    "k-means clustering with k=3 on principal component score vectors match completely with true score labels as it have ari score of 1."
   ]
  },
  {
   "cell_type": "code",
   "execution_count": 27,
   "id": "78258038-4040-4d64-8c8a-fb413500231d",
   "metadata": {
    "scrolled": false
   },
   "outputs": [
    {
     "name": "stdout",
     "output_type": "stream",
     "text": [
      "(50, 2)\n"
     ]
    },
    {
     "data": {
      "image/png": "[encoded data removed]",
      "text/plain": [
       "<Figure size 432x288 with 1 Axes>"
      ]
     },
     "metadata": {
      "needs_background": "light"
     },
     "output_type": "display_data"
    }
   ],
   "source": [
    "data2 = np.genfromtxt('data2.csv', delimiter=',')\n",
    "plt.scatter(data2[:,0], data2[:,1])\n",
    "print(data2.shape)"
   ]
  },
  {
   "cell_type": "markdown",
   "id": "121f928f",
   "metadata": {},
   "source": [
    "We can observe 2 clusters."
   ]
  },
  {
   "cell_type": "code",
   "execution_count": 38,
   "id": "64f468dc-fa9b-4a46-8320-b95c2307019d",
   "metadata": {
    "scrolled": true
   },
   "outputs": [
    {
     "name": "stdout",
     "output_type": "stream",
     "text": [
      "[2.08214614 1.10195725 2.5063929  ... 1.70270849 1.57807901 1.59521567]\n"
     ]
    }
   ],
   "source": [
    "# Inter Observational Distance\n",
    "import scipy\n",
    "pairwise_distance = scipy.spatial.distance.pdist(data2, metric='euclidean')\n",
    "print(pairwise_distance)"
   ]
  },
  {
   "cell_type": "code",
   "execution_count": 31,
   "id": "2eba2b84-186f-466a-988f-90c7e8f40dc2",
   "metadata": {
    "scrolled": true
   },
   "outputs": [
    {
     "data": {
      "image/png": "[encoded data removed]",
      "text/plain": [
       "<Figure size 432x288 with 1 Axes>"
      ]
     },
     "metadata": {
      "needs_background": "light"
     },
     "output_type": "display_data"
    },
    {
     "data": {
      "image/png": "[encoded data removed]",
      "text/plain": [
       "<Figure size 432x288 with 1 Axes>"
      ]
     },
     "metadata": {
      "needs_background": "light"
     },
     "output_type": "display_data"
    },
    {
     "data": {
      "image/png": "[encoded data removed]",
      "text/plain": [
       "<Figure size 432x288 with 1 Axes>"
      ]
     },
     "metadata": {
      "needs_background": "light"
     },
     "output_type": "display_data"
    }
   ],
   "source": [
    "from scipy.cluster.hierarchy import dendrogram, linkage, fcluster\n",
    "\n",
    "# Perform hierarchical clustering using average linkage\n",
    "average_linkage = linkage(pairwise_distance, method='average')\n",
    "\n",
    "# Perform hierarchical clustering using complete linkage\n",
    "complete_linkage = linkage(pairwise_distance, method='complete')\n",
    "\n",
    "# Perform hierarchical clustering using single linkage\n",
    "single_linkage = linkage(pairwise_distance, method='single')\n",
    "\n",
    "\n",
    "# Plot dendrogram for average linkage\n",
    "plt.figure()\n",
    "dendrogram(average_linkage)\n",
    "plt.title(\"Average linkage\")\n",
    "plt.show()\n",
    "\n",
    "# Plot dendrogram for complete linkage\n",
    "plt.figure()\n",
    "dendrogram(complete_linkage)\n",
    "plt.title(\"Complete linkage\")\n",
    "plt.show()\n",
    "\n",
    "# Plot dendrogram for single linkage\n",
    "plt.figure()\n",
    "dendrogram(single_linkage)\n",
    "plt.title(\"Single linkage\")\n",
    "plt.show()"
   ]
  },
  {
   "cell_type": "code",
   "execution_count": 46,
   "id": "23e5b355",
   "metadata": {
    "scrolled": true
   },
   "outputs": [
    {
     "name": "stdout",
     "output_type": "stream",
     "text": [
      "Cluster labels for average linkage: [2 2 2 2 2 2 2 2 2 2 2 2 2 2 2 2 2 2 2 2 2 2 2 2 2 1 1 1 1 1 1 1 1 1 1 1 1\n",
      " 1 1 1 1 1 1 1 1 1 1 1 1 1]\n",
      "Cluster labels for complete linkage: [1 1 1 1 1 1 1 1 1 1 1 1 1 1 1 1 1 1 1 1 1 1 1 1 1 2 2 2 2 2 2 2 2 2 2 2 2\n",
      " 2 2 2 2 2 2 2 2 2 2 2 2 2]\n",
      "Cluster labels for single linkage: [2 2 2 2 2 2 2 2 2 2 2 2 2 2 2 2 2 2 2 2 2 2 2 2 2 1 1 1 1 1 1 1 1 1 1 1 1\n",
      " 1 1 1 1 1 1 1 1 1 1 1 1 1]\n"
     ]
    }
   ],
   "source": [
    "clusters = 2\n",
    "\n",
    "# Extract cluster labels for each observation for average linkage\n",
    "cluster_labels_average = fcluster(average_linkage, clusters, criterion='maxclust')\n",
    "\n",
    "# Extract cluster labels for each observation for complete linkage\n",
    "cluster_labels_complete = fcluster(complete_linkage, clusters, criterion='maxclust')\n",
    "\n",
    "# Extract cluster labels for each observation for single linkage\n",
    "cluster_labels_single = fcluster(single_linkage, clusters, criterion='maxclust')\n",
    "\n",
    "print(\"Cluster labels for average linkage:\", cluster_labels_average)\n",
    "print(\"Cluster labels for complete linkage:\", cluster_labels_complete)\n",
    "print(\"Cluster labels for single linkage:\", cluster_labels_single)"
   ]
  },
  {
   "cell_type": "code",
   "execution_count": null,
   "id": "172342d8",
   "metadata": {},
   "outputs": [],
   "source": []
  }
 ],
 "metadata": {
  "kernelspec": {
   "display_name": "Python 3 (ipykernel)",
   "language": "python",
   "name": "python3"
  },
  "language_info": {
   "codemirror_mode": {
    "name": "ipython",
    "version": 3
   },
   "file_extension": ".py",
   "mimetype": "text/x-python",
   "name": "python",
   "nbconvert_exporter": "python",
   "pygments_lexer": "ipython3",
   "version": "3.9.7"
  }
 },
 "nbformat": 4,
 "nbformat_minor": 5
}
