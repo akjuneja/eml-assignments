{
 "cells": [
  {
   "cell_type": "code",
   "execution_count": 2,
   "id": "a9ed6b54-f74e-4341-bf36-10d5cc01a09e",
   "metadata": {},
   "outputs": [],
   "source": [
    "import numpy as np\n",
    "import pandas as pd\n",
    "import matplotlib.pyplot as plt"
   ]
  },
  {
   "cell_type": "markdown",
   "id": "273b5b7f-ff24-4107-a0f3-59854eeaba7e",
   "metadata": {},
   "source": [
    "# Penguins\n",
    "\n",
    "In this exercise, we will explore the palmerpenguins dataset.\n",
    "\n",
    "\n",
    "*Gorman KB, Williams TD, Fraser WR (2014). Ecological sexual dimorphism and environmental variability within a community of Antarctic penguins (genus Pygoscelis). PLoS ONE 9(3):e90081. https://doi.org/10.1371/journal.pone.0090081*"
   ]
  },
  {
   "cell_type": "markdown",
   "id": "b26ee571",
   "metadata": {},
   "source": [
    "### Part 5.1\n",
    "Load the data. Impute missing values of the numerical features, for example by replacing them with the mean value for the respective feature."
   ]
  },
  {
   "cell_type": "code",
   "execution_count": 32,
   "id": "a4fff19a",
   "metadata": {},
   "outputs": [
    {
     "name": "stdout",
     "output_type": "stream",
     "text": [
      "Before imputation\n",
      "   rowid species     island  bill_length_mm  bill_depth_mm  flipper_length_mm  \\\n",
      "0      1  Adelie  Torgersen            39.1           18.7              181.0   \n",
      "1      2  Adelie  Torgersen            39.5           17.4              186.0   \n",
      "2      3  Adelie  Torgersen            40.3           18.0              195.0   \n",
      "3      4  Adelie  Torgersen             NaN            NaN                NaN   \n",
      "4      5  Adelie  Torgersen            36.7           19.3              193.0   \n",
      "\n",
      "   body_mass_g     sex  year  \n",
      "0       3750.0    male  2007  \n",
      "1       3800.0  female  2007  \n",
      "2       3250.0  female  2007  \n",
      "3          NaN     NaN  2007  \n",
      "4       3450.0  female  2007  \n",
      "\n",
      "After imputation\n",
      "   rowid species     island  bill_length_mm  bill_depth_mm  flipper_length_mm  \\\n",
      "0      1  Adelie  Torgersen        39.10000       18.70000         181.000000   \n",
      "1      2  Adelie  Torgersen        39.50000       17.40000         186.000000   \n",
      "2      3  Adelie  Torgersen        40.30000       18.00000         195.000000   \n",
      "3      4  Adelie  Torgersen        43.92193       17.15117         200.915205   \n",
      "4      5  Adelie  Torgersen        36.70000       19.30000         193.000000   \n",
      "\n",
      "   body_mass_g     sex  year  \n",
      "0  3750.000000    male  2007  \n",
      "1  3800.000000  female  2007  \n",
      "2  3250.000000  female  2007  \n",
      "3  4201.754386     NaN  2007  \n",
      "4  3450.000000  female  2007  \n"
     ]
    }
   ],
   "source": [
    "path = 'data/penguins.csv' \n",
    "\n",
    "# TODO\n",
    "data = pd.read_csv(path)\n",
    "\n",
    "print(\"Before imputation\")\n",
    "print(data.head())\n",
    "\n",
    "# Impute missing values\n",
    "numerical_features = data.select_dtypes(include='number').columns.tolist()\n",
    "data[numerical_features] = data[numerical_features].fillna(data[numerical_features].mean())\n",
    "\n",
    "print()\n",
    "print(\"After imputation\")\n",
    "print(data.head())"
   ]
  },
  {
   "cell_type": "markdown",
   "id": "e1545466-f4b8-4dac-aedc-23a28aaa34ba",
   "metadata": {},
   "source": [
    "### Part 5.2\n",
    "Select only the samples belonging to the species Gentoo. Consider the variables ??`flipper_length_mm`, `body_mass_g`, `bill_length_mm`, `bill_depth_mm` and find the corellations between each pair. "
   ]
  },
  {
   "cell_type": "code",
   "execution_count": 33,
   "id": "c07740f4-6f7c-4f7f-9186-e808c6a1234a",
   "metadata": {},
   "outputs": [
    {
     "name": "stdout",
     "output_type": "stream",
     "text": [
      "Correlation Matrix:\n",
      "                   flipper_length_mm  body_mass_g  bill_length_mm  \\\n",
      "flipper_length_mm           1.000000     0.711209        0.664356   \n",
      "body_mass_g                 0.711209     1.000000        0.673636   \n",
      "bill_length_mm              0.664356     0.673636        1.000000   \n",
      "bill_depth_mm               0.632712     0.666543        0.607152   \n",
      "\n",
      "                   bill_depth_mm  \n",
      "flipper_length_mm       0.632712  \n",
      "body_mass_g             0.666543  \n",
      "bill_length_mm          0.607152  \n",
      "bill_depth_mm           1.000000  \n"
     ]
    }
   ],
   "source": [
    "cols = ['flipper_length_mm', \n",
    "        'body_mass_g',\n",
    "        'bill_length_mm', \n",
    "        'bill_depth_mm',]\n",
    "\n",
    "# TODO\n",
    "gentoo_data = data[data['species'] == 'Gentoo']\n",
    "\n",
    "selected_features = ['flipper_length_mm', 'body_mass_g', 'bill_length_mm', 'bill_depth_mm']\n",
    "\n",
    "correlation_matrix = gentoo_data[selected_features].corr()\n",
    "\n",
    "print(\"Correlation Matrix:\")\n",
    "print(correlation_matrix)"
   ]
  },
  {
   "cell_type": "markdown",
   "id": "99e76e9d",
   "metadata": {},
   "source": [
    "Which pair appears to be most highly corellated?"
   ]
  },
  {
   "cell_type": "markdown",
   "id": "9b70d99d",
   "metadata": {},
   "source": [
    "Most Highly Correlated Pair are ('flipper_length_mm', 'body_mass_g') = 0.711209"
   ]
  },
  {
   "cell_type": "markdown",
   "id": "6ab66f56-297f-4602-aac9-bf6ea03d322a",
   "metadata": {},
   "source": [
    "### Part 5.3 \n",
    "Fit a linear model predicting `body_mass_g` from  `bill_depth_mm` for the species Gentoo and show the linear parameters."
   ]
  },
  {
   "cell_type": "code",
   "execution_count": 34,
   "id": "b7100c5d-6304-4720-ac5b-0cba6277b143",
   "metadata": {},
   "outputs": [
    {
     "name": "stdout",
     "output_type": "stream",
     "text": [
      "Coefficient: 339.92, R2-score: 0.44\n",
      "Intercept: -29.715397325428057\n"
     ]
    }
   ],
   "source": [
    "# TODO\n",
    "beta = 0\n",
    "r2 = 0\n",
    "\n",
    "X = gentoo_data[['bill_depth_mm']]\n",
    "y = gentoo_data['body_mass_g']\n",
    "\n",
    "linear_model = LinearRegression()\n",
    "linear_model.fit(X, y)\n",
    "\n",
    "r2 = linear_model.score(X, y)\n",
    "beta = linear_model.coef_[0]\n",
    "intercept = linear_model.intercept_\n",
    "\n",
    "\n",
    "print(f'Coefficient: {np.round(beta, 2)}, R2-score: {np.round(r2, 2)}')\n",
    "print(f\"Intercept: {intercept}\")"
   ]
  },
  {
   "cell_type": "markdown",
   "id": "1dcf47ae",
   "metadata": {},
   "source": [
    "What are the linear parameters and how do you judge the goodness of fit?"
   ]
  },
  {
   "cell_type": "markdown",
   "id": "6f655c0d",
   "metadata": {},
   "source": [
    "Linear parameters are coeffecient & intercept. \\\n",
    "We use R2 value (score) as a measurement to judge the goodness of fit. Higher value indicates a better fit."
   ]
  },
  {
   "cell_type": "markdown",
   "id": "d2205c6e-02cf-4228-8f81-9396308ba0f7",
   "metadata": {},
   "source": [
    "### Part 5.4\n",
    "Now consider the pair of variables `body_mass_g`  and  `bill_depth_mm` over *all* penguin species. Perform a hypothesis test on whether there is  \tstatistically significant relationship between the predictors. What problem do you see? *Hint: Consider visualizing the relationship between the variables using a scatterplot.*"
   ]
  },
  {
   "cell_type": "code",
   "execution_count": 35,
   "id": "b7709f18-b292-4ae3-a13e-d0424e329ed2",
   "metadata": {},
   "outputs": [
    {
     "data": {
      "image/png": "[encoded data removed]",
      "text/plain": [
       "<Figure size 576x432 with 1 Axes>"
      ]
     },
     "metadata": {
      "needs_background": "light"
     },
     "output_type": "display_data"
    },
    {
     "name": "stdout",
     "output_type": "stream",
     "text": [
      "Pearson correlation coefficient: -0.4719156211860666\n",
      "P-value: 1.7647813131261825e-20\n",
      "Corel_test(body_mass_g,bill_depth_mm)): True\n"
     ]
    }
   ],
   "source": [
    "import seaborn as sns\n",
    "from scipy.stats import pearsonr\n",
    "\n",
    "x1 = 'body_mass_g'\n",
    "x2 = 'bill_depth_mm' \n",
    "alpha = 0.05\n",
    "\n",
    "\n",
    "# Visualize the relationship using seaborn.scatterplot\n",
    "plt.figure(figsize=(8, 6))\n",
    "sns.scatterplot(data=data, x=x1, y=x2)\n",
    "plt.xlabel('Body Mass (g)')\n",
    "plt.ylabel('Bill Depth (mm)')\n",
    "plt.title('Scatterplot: Body Mass vs Bill Depth')\n",
    "plt.show()\n",
    "\n",
    "# TODO \n",
    "p_val = None\n",
    "# Hypothesis test - Pearson correlation\n",
    "pearson_corr, p_val = pearsonr(data[x1], data[x2])\n",
    "print(f\"Pearson correlation coefficient: {pearson_corr}\")\n",
    "print(f\"P-value: {p_val}\")\n",
    "print(f'Corel_test({x1},{x2})): {None if p_val is None else p_val<alpha}') "
   ]
  },
  {
   "cell_type": "markdown",
   "id": "be9a04a9",
   "metadata": {},
   "source": [
    "Is there a significant relationship and what problem do you see?"
   ]
  },
  {
   "cell_type": "markdown",
   "id": "165ce20e",
   "metadata": {},
   "source": [
    "Yes, there is a significant relationship between body_mass and bill_depth. "
   ]
  },
  {
   "cell_type": "markdown",
   "id": "b8e9a705",
   "metadata": {},
   "source": [
    "### Part 5.5 \n",
    "Consider again the species Gentoo. Suppose we observe a new penguin with bill length of 17. Using the body mass of its four closest neighbors (in terms of the bill lengths), predict the body mass of the new penguin."
   ]
  },
  {
   "cell_type": "code",
   "execution_count": 27,
   "id": "9ce89d2b-fcbb-49ab-a276-a410dabf68f4",
   "metadata": {},
   "outputs": [
    {
     "name": "stdout",
     "output_type": "stream",
     "text": [
      "Predicted body mass of the new penguin: 5650.0 grams\n"
     ]
    }
   ],
   "source": [
    "from sklearn.neighbors import KNeighborsRegressor\n",
    "\n",
    "knn_model = KNeighborsRegressor(n_neighbors=4)  # considering 4 nearest neighbors\n",
    "knn_model.fit(X, y)\n",
    "\n",
    "new_penguin_bill_length = [[17]]  # Bill length of the new penguin\n",
    "predicted_body_mass = knn_model.predict(new_penguin_bill_length)\n",
    "\n",
    "print(f\"Predicted body mass of the new penguin: {predicted_body_mass[0]} grams\")"
   ]
  },
  {
   "cell_type": "markdown",
   "id": "7e4fa00d",
   "metadata": {},
   "source": [
    "### Part 5.6\n",
    "Plot the RSS of a $k$NN regression predicting `body_mass_g`  from  `bill_depth_mm` for different choices of $k$ $(k \\in \\{1, ...,10\\})$."
   ]
  },
  {
   "cell_type": "code",
   "execution_count": 36,
   "id": "9d4642b1-7ee0-433d-906d-22525f9e4491",
   "metadata": {},
   "outputs": [
    {
     "data": {
      "image/png": "[encoded data removed]",
      "text/plain": [
       "<Figure size 576x432 with 1 Axes>"
      ]
     },
     "metadata": {
      "needs_background": "light"
     },
     "output_type": "display_data"
    }
   ],
   "source": [
    "from sklearn.metrics import mean_squared_error\n",
    "\n",
    "range_k = range(1,11)\n",
    "rss_values = []\n",
    "\n",
    "for k in range_k:\n",
    "    knn_model = KNeighborsRegressor(n_neighbors=k)\n",
    "    knn_model.fit(X, y)\n",
    "    predictions = knn_model.predict(X)\n",
    "    rss = mean_squared_error(y, predictions) * len(y)  # Residual Sum of Squares\n",
    "    rss_values.append(rss)\n",
    "\n",
    "# Plotting RSS for different values of k\n",
    "plt.figure(figsize=(8, 6))\n",
    "plt.plot(range_k, rss_values, marker='o')\n",
    "plt.xlabel('k values')\n",
    "plt.ylabel('Residual Sum of Squares (RSS)')\n",
    "plt.title('RSS of kNN Regression for Different k values (Gentoo)')\n",
    "plt.xticks(range_k)\n",
    "plt.grid(True)\n",
    "plt.show()"
   ]
  },
  {
   "cell_type": "markdown",
   "id": "8c3fd08a",
   "metadata": {},
   "source": [
    "Which $k$ would you choose and why?"
   ]
  },
  {
   "cell_type": "markdown",
   "id": "e6833d72",
   "metadata": {},
   "source": [
    "We will choose the k=4 because RSS is minimum."
   ]
  }
 ],
 "metadata": {
  "kernelspec": {
   "display_name": "Python (llm)",
   "language": "python",
   "name": "llm"
  },
  "language_info": {
   "codemirror_mode": {
    "name": "ipython",
    "version": 3
   },
   "file_extension": ".py",
   "mimetype": "text/x-python",
   "name": "python",
   "nbconvert_exporter": "python",
   "pygments_lexer": "ipython3",
   "version": "3.9.7"
  }
 },
 "nbformat": 4,
 "nbformat_minor": 5
}
