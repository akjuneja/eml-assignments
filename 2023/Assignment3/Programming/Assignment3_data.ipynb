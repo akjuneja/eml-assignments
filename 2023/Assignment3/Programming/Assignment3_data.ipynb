{
 "cells": [
  {
   "cell_type": "markdown",
   "metadata": {},
   "source": [
    "# Programming Task: Linear Regression"
   ]
  },
  {
   "cell_type": "code",
   "execution_count": 1,
   "metadata": {},
   "outputs": [],
   "source": [
    "import numpy as np\n",
    "import matplotlib.pyplot as plt\n",
    "from sklearn.datasets import load_boston\n",
    "from sklearn.model_selection import train_test_split, KFold, LeaveOneOut"
   ]
  },
  {
   "cell_type": "markdown",
   "metadata": {},
   "source": [
    "## Your task"
   ]
  },
  {
   "cell_type": "markdown",
   "metadata": {},
   "source": [
    "This notebook provides a code skeleton for performing linear regression. \n",
    "Your task is to complete the functions where required. \n",
    "You are only allowed to use built-in Python functions, as well as any `numpy` functions. No other libraries / imports are allowed. \n",
    "\n",
    "In the beginning of every function there is docstring which specifies the input and and expected output.\n",
    "Write your code in a way that adheres to it.\n",
    "You may only use plain python and anything that we imported for you above such as numpy functions (i.e. no other scikit-learn classifiers)."
   ]
  },
  {
   "cell_type": "markdown",
   "metadata": {},
   "source": [
    "## Exporting the results to PDF\n",
    "Once you complete the assignments, export the entire notebook as PDF and attach it to your homework solutions. \n",
    "The best way of doing that is\n",
    "1. Run all the cells of the notebook (`Kernel -> Restart & Run All`)\n",
    "2. Export/download the notebook as PDF (`File -> Download as -> PDF via LaTeX (.pdf)`)\n",
    "3. Concatenate your solutions for other tasks with the output of Step 2. On Linux you can simply use `pdfunite`, there are similar tools for other platforms too. You can only upload a single PDF file to Moodle.\n",
    "\n",
    "**Make sure** you are using `nbconvert` **Version 5.5 or later** by running `jupyter nbconvert --version`. Older versions clip lines that exceed page width, which makes your code harder to grade."
   ]
  },
  {
   "cell_type": "markdown",
   "metadata": {},
   "source": [
    "## Load and preprocess the data"
   ]
  },
  {
   "cell_type": "markdown",
   "metadata": {},
   "source": [
    "In this assignment we will work with the Boston Housing Dataset.\n",
    "The data consists of 506 samples. Each sample represents a district in the city of Boston and has 13 features, such as crime rate or taxation level. The regression target is the median house price in the given district (in $1000's).\n",
    "\n",
    "More details can be found here: http://lib.stat.cmu.edu/datasets/boston"
   ]
  },
  {
   "cell_type": "code",
   "execution_count": 2,
   "metadata": {},
   "outputs": [],
   "source": [
    "X , y = load_boston(return_X_y=True)\n",
    "\n",
    "# Add a vector of ones to the data matrix to absorb the bias term\n",
    "# (Recall slide #7 from the lecture)\n",
    "X = np.hstack([np.ones([X.shape[0], 1]), X])\n",
    "# From now on, D refers to the number of features in the AUGMENTED dataset (i.e. including the dummy '1' feature for the absorbed bias term)\n",
    "\n",
    "# Split into train and test\n",
    "test_size = 0.2\n",
    "X_train, X_test, y_train, y_test = train_test_split(X, y, test_size=test_size)"
   ]
  },
  {
   "cell_type": "markdown",
   "metadata": {},
   "source": [
    "## Task 1: Fit standard linear regression"
   ]
  },
  {
   "cell_type": "code",
   "execution_count": 3,
   "metadata": {},
   "outputs": [],
   "source": [
    "def fit_least_squares(X, y):\n",
    "    \"\"\"Fit ordinary least squares model to the data.\n",
    "    \n",
    "    Parameters\n",
    "    ----------\n",
    "    X : array, shape [N, D]\n",
    "        (Augmented) feature matrix.\n",
    "    y : array, shape [N]\n",
    "        Regression targets.\n",
    "        \n",
    "    Returns\n",
    "    -------\n",
    "    w : array, shape [D]\n",
    "        Optimal regression coefficients (w[0] is the bias term).\n",
    "        \n",
    "    \"\"\"\n",
    "    ### BEGIN SOLUTION ###\n",
    "    w = np.linalg.inv(X.T @ X) @ X.T @ y\n",
    "    return w\n",
    "    ### END SOLUTION ###"
   ]
  },
  {
   "cell_type": "markdown",
   "metadata": {},
   "source": [
    "## Task 2: Fit ridge regression"
   ]
  },
  {
   "cell_type": "code",
   "execution_count": 4,
   "metadata": {},
   "outputs": [],
   "source": [
    "def fit_ridge(X, y, reg_strength):\n",
    "    \"\"\"Fit ridge regression model to the data.\n",
    "    \n",
    "    Parameters\n",
    "    ----------\n",
    "    X : array, shape [N, D]\n",
    "        (Augmented) feature matrix.\n",
    "    y : array, shape [N]\n",
    "        Regression targets.\n",
    "    reg_strength : float\n",
    "        L2 regularization strength (denoted by lambda in the lecture)\n",
    "        \n",
    "    Returns\n",
    "    -------\n",
    "    w : array, shape [D]\n",
    "        Optimal regression coefficients (w[0] is the bias term).\n",
    "    \n",
    "    \"\"\"\n",
    "    ### BEGIN SOLUTION ###\n",
    "    D = X.shape[1]  # Number of features\n",
    "    identity = np.identity(D)\n",
    "    w = np.linalg.inv(X.T @ X + reg_strength * identity) @ X.T @ y\n",
    "    \n",
    "    return w\n",
    "    ### END SOLUTION ###"
   ]
  },
  {
   "cell_type": "markdown",
   "metadata": {},
   "source": [
    "## Task 3: Generate predictions for new data"
   ]
  },
  {
   "cell_type": "code",
   "execution_count": 6,
   "metadata": {},
   "outputs": [],
   "source": [
    "def predict_linear_model(X, w):\n",
    "    \"\"\"Generate predictions for the given samples.\n",
    "    \n",
    "    Parameters\n",
    "    ----------\n",
    "    X : array, shape [N, D]\n",
    "        (Augmented) feature matrix.\n",
    "    w : array, shape [D]\n",
    "        Regression coefficients.\n",
    "        \n",
    "    Returns\n",
    "    -------\n",
    "    y_pred : array, shape [N]\n",
    "        Predicted regression targets for the input data.\n",
    "        \n",
    "    \"\"\"\n",
    "    ### BEGIN SOLUTION ###\n",
    "    y_pred = X @ w\n",
    "\n",
    "    return y_pred\n",
    "    ### END SOLUTION ###"
   ]
  },
  {
   "cell_type": "markdown",
   "metadata": {},
   "source": [
    "## Task 4: Mean squared error"
   ]
  },
  {
   "cell_type": "code",
   "execution_count": 7,
   "metadata": {},
   "outputs": [],
   "source": [
    "def mean_squared_error(y_true, y_pred):\n",
    "    \"\"\"Compute mean squared error between true and predicted regression targets.\n",
    "    \n",
    "    Reference: `https://en.wikipedia.org/wiki/Mean_squared_error`\n",
    "    \n",
    "    Parameters\n",
    "    ----------\n",
    "    y_true : array\n",
    "        True regression targets.\n",
    "    y_pred : array\n",
    "        Predicted regression targets.\n",
    "        \n",
    "    Returns\n",
    "    -------\n",
    "    mse : float\n",
    "        Mean squared error.\n",
    "        \n",
    "    \"\"\"\n",
    "    ### BEGIN SOLUTION ###\n",
    "     # Calculate mean squared error\n",
    "    mse = np.mean((y_true - y_pred) ** 2)\n",
    "\n",
    "    return mse\n",
    "    ### END SOLUTION ###"
   ]
  },
  {
   "cell_type": "markdown",
   "metadata": {},
   "source": [
    "## Compare the two models"
   ]
  },
  {
   "cell_type": "markdown",
   "metadata": {},
   "source": [
    "The reference implementation produces for test size 0.2\n",
    "* MSE for Least squares $\\approx$ **23.96**\n",
    "* MSE for Ridge regression $\\approx$ **21.03**\n",
    "\n",
    "You results might be slightly (i.e. $\\pm 1\\%$) different from the reference solution due to numerical reasons. There are no tasks."
   ]
  },
  {
   "cell_type": "code",
   "execution_count": 8,
   "metadata": {},
   "outputs": [
    {
     "name": "stdout",
     "output_type": "stream",
     "text": [
      "MSE for Least squares = 23.96457138495312\n",
      "MSE for Ridge regression = 21.03493121591825\n"
     ]
    }
   ],
   "source": [
    "# Load the data\n",
    "np.random.seed(1234)\n",
    "test_size=0.2\n",
    "X , y = load_boston(return_X_y=True)\n",
    "X = np.hstack([np.ones([X.shape[0], 1]), X])\n",
    "X_train, X_test, y_train, y_test = train_test_split(X, y, test_size=test_size)\n",
    "\n",
    "# Ordinary least squares regression\n",
    "w_ls = fit_least_squares(X_train, y_train)\n",
    "y_pred_ls = predict_linear_model(X_test, w_ls)\n",
    "mse_ls = mean_squared_error(y_test, y_pred_ls)\n",
    "print('MSE for Least squares = {0}'.format(mse_ls))\n",
    "\n",
    "# Ridge regression\n",
    "reg_strength = 1\n",
    "w_ridge = fit_ridge(X_train, y_train, reg_strength)\n",
    "y_pred_ridge = predict_linear_model(X_test, w_ridge)\n",
    "mse_ridge = mean_squared_error(y_test, y_pred_ridge)\n",
    "print('MSE for Ridge regression = {0}'.format(mse_ridge))"
   ]
  },
  {
   "cell_type": "markdown",
   "metadata": {},
   "source": [
    "## Task 5: Compare sklearn and numpy Kfold "
   ]
  },
  {
   "cell_type": "markdown",
   "metadata": {},
   "source": [
    "The below sklearn K-fold Cross validation reference implementation is for you to read. For k=10 it produces\n",
    "* MSE for Least squares $\\approx$ **25.19**\n",
    "* MSE for Ridge regression $\\approx$ **26.70**\n",
    "\n",
    "You results might be slightly (i.e. $\\pm 0.1\\%$) different from the reference solution due to numerical reasons."
   ]
  },
  {
   "cell_type": "code",
   "execution_count": 9,
   "metadata": {},
   "outputs": [
    {
     "data": {
      "text/plain": [
       "(25.19511274208955, 26.702583876930895)"
      ]
     },
     "execution_count": 9,
     "metadata": {},
     "output_type": "execute_result"
    }
   ],
   "source": [
    "def kfold_compare(n_folds):\n",
    "    np.random.seed(1234)\n",
    "    kf = KFold(n_splits=n_folds, shuffle=True, random_state=1234)\n",
    "\n",
    "    mse_ls_sum = 0\n",
    "    mse_ridge_sum = 0\n",
    "    X , y = load_boston(return_X_y=True)\n",
    "    X = np.hstack([np.ones([X.shape[0], 1]), X])\n",
    "    test_size = 0.2\n",
    "    X_train, X_test, y_train, y_test = train_test_split(X, y, test_size=0.2)\n",
    "    for train_index, val_index in kf.split(X_train):\n",
    "        X_train_fold, X_val_fold = X_train[train_index], X_train[val_index]\n",
    "        y_train_fold, y_val_fold = y_train[train_index], y_train[val_index]\n",
    "\n",
    "        # Ordinary least squares regression\n",
    "        w_ls = fit_least_squares(X_train_fold, y_train_fold)\n",
    "        y_pred_ls = predict_linear_model(X_val_fold, w_ls)\n",
    "        mse_ls_fold = mean_squared_error(y_val_fold, y_pred_ls)\n",
    "        mse_ls_sum += mse_ls_fold\n",
    "\n",
    "        # Ridge regression\n",
    "        reg_strength = 1\n",
    "        w_ridge = fit_ridge(X_train_fold, y_train_fold, reg_strength)\n",
    "        y_pred_ridge = predict_linear_model(X_val_fold, w_ridge)\n",
    "        mse_ridge_fold = mean_squared_error(y_val_fold, y_pred_ridge)\n",
    "        mse_ridge_sum += mse_ridge_fold\n",
    "\n",
    "    # Calculate the average MSE over all folds\n",
    "    avg_mse_ls = mse_ls_sum / n_folds\n",
    "    avg_mse_ridge = mse_ridge_sum / n_folds\n",
    "\n",
    "    #print('Average MSE for Least squares = {0}'.format(avg_mse_ls))\n",
    "    #print('Average MSE for Ridge regression = {0}'.format(avg_mse_ridge))\n",
    "    return avg_mse_ls, avg_mse_ridge\n",
    "\n",
    "kfold_compare(n_folds=10)"
   ]
  },
  {
   "cell_type": "markdown",
   "metadata": {},
   "source": [
    "The correct custom numpy implementation produces for 10-fold cross validation\n",
    "* MSE for Least squares $\\approx$ **24.91**\n",
    "* MSE for Ridge regression $\\approx$ **26.66**\n",
    "\n",
    "You results might be slightly (i.e. $\\pm 0.1\\%$) different from the reference solution due to numerical reasons. \n",
    "\n",
    "**Your task is to fill in the code to compute indices of subsets for validation fold and training fold, i.e. val_indices, train_indices**"
   ]
  },
  {
   "cell_type": "code",
   "execution_count": 10,
   "metadata": {},
   "outputs": [
    {
     "data": {
      "text/plain": [
       "(24.913053350782526, 26.666643064734238)"
      ]
     },
     "execution_count": 10,
     "metadata": {},
     "output_type": "execute_result"
    }
   ],
   "source": [
    "def custom_kfold_compare(n_folds):\n",
    "    np.random.seed(1234)\n",
    "\n",
    "    mse_ls_sum = 0\n",
    "    mse_ridge_sum = 0\n",
    "    \n",
    "    X , y = load_boston(return_X_y=True)\n",
    "    X = np.hstack([np.ones([X.shape[0], 1]), X])\n",
    "    test_size = 0.2\n",
    "    X_train, X_test, y_train, y_test = train_test_split(X, y, test_size=0.2)\n",
    "    \n",
    "    n_samples = X_train.shape[0]\n",
    "    fold_size = n_samples // n_folds\n",
    "\n",
    "    for i in range(n_folds):\n",
    "        val_indices, train_indices = [], []\n",
    "        ### BEGIN SOLUTION ####\n",
    "\n",
    "        start_val = i * fold_size\n",
    "        end_val = (i + 1) * fold_size\n",
    "        \n",
    "        val_indices = list(range(start_val, end_val))\n",
    "        train_indices = [idx for idx in range(n_samples) if idx not in val_indices]\n",
    "\n",
    "        ### END SOLUTION ####\n",
    "\n",
    "        X_train_fold = X_train[train_indices]\n",
    "        X_val_fold = X_train[val_indices]\n",
    "        y_train_fold = y_train[train_indices]\n",
    "        y_val_fold = y_train[val_indices]\n",
    "\n",
    "        # Ordinary least squares regression\n",
    "        w_ls = fit_least_squares(X_train_fold, y_train_fold)\n",
    "        y_pred_ls = predict_linear_model(X_val_fold, w_ls)\n",
    "        mse_ls_fold = mean_squared_error(y_val_fold, y_pred_ls)\n",
    "        mse_ls_sum += mse_ls_fold\n",
    "\n",
    "        # Ridge regression\n",
    "        reg_strength = 1\n",
    "        w_ridge = fit_ridge(X_train_fold, y_train_fold, reg_strength)\n",
    "        y_pred_ridge = predict_linear_model(X_val_fold, w_ridge)\n",
    "        mse_ridge_fold = mean_squared_error(y_val_fold, y_pred_ridge)\n",
    "        mse_ridge_sum += mse_ridge_fold\n",
    "\n",
    "    # Calculate the average MSE over all folds\n",
    "    avg_mse_ls = mse_ls_sum / n_folds\n",
    "    avg_mse_ridge = mse_ridge_sum / n_folds\n",
    "\n",
    "    return avg_mse_ls, avg_mse_ridge\n",
    "\n",
    "# Call the function with n_folds=10 and print the results\n",
    "custom_kfold_compare(n_folds=10)"
   ]
  },
  {
   "cell_type": "markdown",
   "metadata": {},
   "source": [
    "## Task 6: Compare different k fold cross validation\n",
    "Plot K-fold Cross Validation MSE for Least Squares Vs Rigde Regression for k in {2,3,4,..,10} using custom numpy implementation"
   ]
  },
  {
   "cell_type": "code",
   "execution_count": 11,
   "metadata": {},
   "outputs": [
    {
     "data": {
      "image/png": "[encoded data removed]",
      "text/plain": [
       "<Figure size 576x432 with 1 Axes>"
      ]
     },
     "metadata": {
      "needs_background": "light"
     },
     "output_type": "display_data"
    }
   ],
   "source": [
    "def plot_comparison(n_folds_values, results_ls,results_ridge):\n",
    "    # Plot the results\n",
    "    plt.figure(figsize=(8, 6))\n",
    "    plt.plot(n_folds_values, results_ls, label='Least Squares', marker='o')\n",
    "    plt.plot(n_folds_values, results_ridge, label='Ridge Regression', marker='o')\n",
    "    plt.xlabel('Number of Folds (k)')\n",
    "    plt.ylabel('Average Mean Squared Error (MSE)')\n",
    "    plt.title('Average MSE vs. Number of Folds')\n",
    "    plt.legend()\n",
    "    plt.grid(True)\n",
    "    plt.show()\n",
    "    return \n",
    "\n",
    "n_folds_values = range(2,11,1)\n",
    "\n",
    "### BEGIN SOLUTION ###\n",
    "results_ls = []\n",
    "results_ridge = []\n",
    "\n",
    "for n_folds in n_folds_values:\n",
    "    avg_mse_ls, avg_mse_ridge = custom_kfold_compare(n_folds)\n",
    "    results_ls.append(avg_mse_ls)\n",
    "    results_ridge.append(avg_mse_ridge)\n",
    "\n",
    "### END SOLUTION ###\n",
    "\n",
    "plot_comparison(n_folds_values, results_ls, results_ridge)"
   ]
  },
  {
   "cell_type": "markdown",
   "metadata": {},
   "source": [
    "## Task 7: Leave One Out Cross Validation\n",
    "The below sklearn reference implementation for leave one out cross validation is for you to read. It produces\n",
    "* MSE for Least squares $\\approx$ **23.72**\n",
    "* MSE for Ridge regression $\\approx$ **24.48**\n",
    "\n",
    "You results might be slightly (i.e. $\\pm 0.1\\%$) different from the reference solution due to numerical reasons.  "
   ]
  },
  {
   "cell_type": "code",
   "execution_count": 12,
   "metadata": {
    "scrolled": true
   },
   "outputs": [
    {
     "name": "stdout",
     "output_type": "stream",
     "text": [
      "Average MSE for Least squares (LOOCV) = 23.7257455194757\n",
      "Average MSE for Ridge regression (LOOCV) = 24.488356327312317\n"
     ]
    }
   ],
   "source": [
    "X , y = load_boston(return_X_y=True)\n",
    "X = np.hstack([np.ones([X.shape[0], 1]), X])\n",
    "\n",
    "# Initialize lists to store MSE values\n",
    "mse_ls_values = []\n",
    "mse_ridge_values = []\n",
    "\n",
    "# Create LOOCV iterator\n",
    "loo = LeaveOneOut()\n",
    "\n",
    "# Iterate through LOOCV splits\n",
    "for train_index, test_index in loo.split(X):\n",
    "    X_train, X_test = X[train_index], X[test_index]\n",
    "    y_train, y_test = y[train_index], y[test_index]\n",
    "\n",
    "    # Ordinary least squares regression\n",
    "    w_ls = fit_least_squares(X_train, y_train)\n",
    "    y_pred_ls = predict_linear_model(X_test, w_ls)\n",
    "    mse_ls = mean_squared_error(y_test, y_pred_ls)\n",
    "    mse_ls_values.append(mse_ls)\n",
    "\n",
    "    # Ridge regression\n",
    "    reg_strength = 1\n",
    "    w_ridge = fit_ridge(X_train, y_train, reg_strength)\n",
    "    y_pred_ridge = predict_linear_model(X_test, w_ridge)\n",
    "    mse_ridge = mean_squared_error(y_test, y_pred_ridge)\n",
    "    mse_ridge_values.append(mse_ridge)\n",
    "\n",
    "# Calculate the average MSE over all LOOCV iterations\n",
    "avg_mse_ls_sk = np.mean(mse_ls_values)\n",
    "avg_mse_ridge_sk = np.mean(mse_ridge_values)\n",
    "\n",
    "print('Average MSE for Least squares (LOOCV) = {0}'.format(avg_mse_ls_sk))\n",
    "print('Average MSE for Ridge regression (LOOCV) = {0}'.format(avg_mse_ridge_sk))"
   ]
  },
  {
   "cell_type": "markdown",
   "metadata": {},
   "source": [
    "The correct custom numpy implementation produces for leave one out cross validation produces\n",
    "* MSE for Least squares $\\approx$ **23.72**\n",
    "* MSE for Ridge regression $\\approx$ **24.48**\n",
    "\n",
    "You results might be slightly (i.e. $\\pm 0.1\\%$) different from the reference solution due to numerical reasons. \n",
    "\n",
    "**Your task is to fill in the code to compute subsets for validation fold and training fold, i.e. (X_train,y_train) and (X_val,y_val)**"
   ]
  },
  {
   "cell_type": "code",
   "execution_count": 13,
   "metadata": {},
   "outputs": [
    {
     "name": "stdout",
     "output_type": "stream",
     "text": [
      "Average MSE for Least squares (LOOCV) = 23.7257455194757\n",
      "Average MSE for Ridge regression (LOOCV) = 24.488356327312317\n"
     ]
    }
   ],
   "source": [
    "# Initialize lists to store MSE values\n",
    "mse_ls_values = []\n",
    "mse_ridge_values = []\n",
    "\n",
    "# Leave-One-Out Cross-Validation (LOOCV)\n",
    "n = X.shape[0]\n",
    "\n",
    "for i in range(n):\n",
    "    ### BEGIN SOLUTION ###\n",
    "    X_val = X[i:i+1]\n",
    "    y_val = y[i:i+1]\n",
    "    \n",
    "    X_train = np.delete(X, i, axis=0)\n",
    "    y_train = np.delete(y, i)\n",
    "    ### END SOLUTION ###\n",
    "    \n",
    "    # Ordinary least squares regression\n",
    "    w_ls = fit_least_squares(X_train, y_train)\n",
    "    y_pred_ls = predict_linear_model(X_val, w_ls)\n",
    "    mse_ls = mean_squared_error(y_val, y_pred_ls)\n",
    "    mse_ls_values.append(mse_ls)\n",
    "\n",
    "    # Ridge regression\n",
    "    reg_strength = 1\n",
    "    w_ridge = fit_ridge(X_train, y_train, reg_strength)\n",
    "    y_pred_ridge = predict_linear_model(X_val, w_ridge)\n",
    "    mse_ridge = mean_squared_error(y_val, y_pred_ridge)\n",
    "    mse_ridge_values.append(mse_ridge)\n",
    "\n",
    "# Calculate the average MSE over all LOOCV iterations\n",
    "avg_mse_ls = np.mean(mse_ls_values)\n",
    "avg_mse_ridge = np.mean(mse_ridge_values)\n",
    "\n",
    "print('Average MSE for Least squares (LOOCV) = {0}'.format(avg_mse_ls))\n",
    "print('Average MSE for Ridge regression (LOOCV) = {0}'.format(avg_mse_ridge))"
   ]
  },
  {
   "cell_type": "code",
   "execution_count": null,
   "metadata": {},
   "outputs": [],
   "source": []
  }
 ],
 "metadata": {
  "kernelspec": {
   "display_name": "Python (llm)",
   "language": "python",
   "name": "llm"
  },
  "language_info": {
   "codemirror_mode": {
    "name": "ipython",
    "version": 3
   },
   "file_extension": ".py",
   "mimetype": "text/x-python",
   "name": "python",
   "nbconvert_exporter": "python",
   "pygments_lexer": "ipython3",
   "version": "3.9.7"
  },
  "toc": {
   "colors": {
    "hover_highlight": "#DAA520",
    "navigate_num": "#000000",
    "navigate_text": "#333333",
    "running_highlight": "#FF0000",
    "selected_highlight": "#FFD700",
    "sidebar_border": "#EEEEEE",
    "wrapper_background": "#FFFFFF"
   },
   "moveMenuLeft": true,
   "nav_menu": {
    "height": "48px",
    "width": "252px"
   },
   "navigate_menu": true,
   "number_sections": true,
   "sideBar": true,
   "threshold": 4,
   "toc_cell": false,
   "toc_section_display": "block",
   "toc_window_display": false,
   "widenNotebook": false
  }
 },
 "nbformat": 4,
 "nbformat_minor": 4
}
